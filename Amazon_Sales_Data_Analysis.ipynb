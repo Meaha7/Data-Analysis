{
  "nbformat": 4,
  "nbformat_minor": 0,
  "metadata": {
    "colab": {
      "name": "Amazon Sales Data Analysis.ipynb",
      "provenance": []
    },
    "kernelspec": {
      "name": "python3",
      "display_name": "Python 3"
    },
    "language_info": {
      "name": "python"
    }
  },
  "cells": [
    {
      "cell_type": "code",
      "metadata": {
        "id": "UtsbhbgvEpqx"
      },
      "source": [
        "#Analysing Amazon seller's sales data "
      ],
      "execution_count": 1,
      "outputs": []
    },
    {
      "cell_type": "code",
      "metadata": {
        "id": "XJm35qY6FAuA"
      },
      "source": [
        "#Use Pandas(Data Manipultion library),NumPy(Numeric calculation library),Matplotlib(Visulaisation library in form of chart,graph etc.,)\n",
        "#These library are very useful in dataanalysis\n",
        "#NumPy is very fast ;Even Nasa uses if any calculation needed\n",
        "#Matplotlib,Pandas library is built over NumPy because they contain function aldready there in NumPy\n",
        "#Pandas can be visulaised as extremely powerful version of excel\n",
        "#Heavy dataset in excel is unresponsive; pandas is useful at that time - to load large data set\n",
        "#Matplotlib useful in 2D visualisations; can be seen as alternative to matlab\n",
        "#numPy is base library ;many functions are inherited by pandas and matplotlib from NumPy"
      ],
      "execution_count": 2,
      "outputs": []
    },
    {
      "cell_type": "code",
      "metadata": {
        "colab": {
          "base_uri": "https://localhost:8080/",
          "height": 763
        },
        "id": "XNeUtH0-FZ-j",
        "outputId": "d5abfb79-dfec-45a9-c76e-2dee711af00a"
      },
      "source": [
        "import pandas as pd\n",
        "\n",
        "#csv -> comma separated variable\n",
        "\n",
        "df = pd.read_csv('amazon_orders.csv')\n",
        "df.head(10)"
      ],
      "execution_count": 3,
      "outputs": [
        {
          "output_type": "execute_result",
          "data": {
            "text/html": [
              "<div>\n",
              "<style scoped>\n",
              "    .dataframe tbody tr th:only-of-type {\n",
              "        vertical-align: middle;\n",
              "    }\n",
              "\n",
              "    .dataframe tbody tr th {\n",
              "        vertical-align: top;\n",
              "    }\n",
              "\n",
              "    .dataframe thead th {\n",
              "        text-align: right;\n",
              "    }\n",
              "</style>\n",
              "<table border=\"1\" class=\"dataframe\">\n",
              "  <thead>\n",
              "    <tr style=\"text-align: right;\">\n",
              "      <th></th>\n",
              "      <th>Order Date</th>\n",
              "      <th>Order ID</th>\n",
              "      <th>Payment Instrument Type</th>\n",
              "      <th>Website</th>\n",
              "      <th>Purchase Order Number</th>\n",
              "      <th>Ordering Customer Email</th>\n",
              "      <th>Shipment Date</th>\n",
              "      <th>Shipping Address Name</th>\n",
              "      <th>Shipping Address Street 1</th>\n",
              "      <th>Shipping Address Street 2</th>\n",
              "      <th>Shipping Address City</th>\n",
              "      <th>Shipping Address State</th>\n",
              "      <th>Shipping Address Zip</th>\n",
              "      <th>Order Status</th>\n",
              "      <th>Carrier Name &amp; Tracking Number</th>\n",
              "      <th>Subtotal</th>\n",
              "      <th>Shipping Charge</th>\n",
              "      <th>Tax Before Promotions</th>\n",
              "      <th>Total Promotions</th>\n",
              "      <th>Tax Charged</th>\n",
              "      <th>Total Charged</th>\n",
              "      <th>Buyer Name</th>\n",
              "      <th>Group Name</th>\n",
              "    </tr>\n",
              "  </thead>\n",
              "  <tbody>\n",
              "    <tr>\n",
              "      <th>0</th>\n",
              "      <td>04/01/19</td>\n",
              "      <td>112-0000000-0000001</td>\n",
              "      <td>Visa - 0001</td>\n",
              "      <td>Amazon.com</td>\n",
              "      <td>NaN</td>\n",
              "      <td>your_email@gmail.com</td>\n",
              "      <td>04/01/19</td>\n",
              "      <td>Your Name</td>\n",
              "      <td>1 YOUR STREET</td>\n",
              "      <td>NaN</td>\n",
              "      <td>ANYTOWN</td>\n",
              "      <td>ME</td>\n",
              "      <td>00001-0001</td>\n",
              "      <td>Shipped</td>\n",
              "      <td>USPS(0001)</td>\n",
              "      <td>$35.00</td>\n",
              "      <td>$0.00</td>\n",
              "      <td>$1.93</td>\n",
              "      <td>$0.00</td>\n",
              "      <td>$1.93</td>\n",
              "      <td>$36.93</td>\n",
              "      <td>Your Name</td>\n",
              "      <td>NaN</td>\n",
              "    </tr>\n",
              "    <tr>\n",
              "      <th>1</th>\n",
              "      <td>04/01/19</td>\n",
              "      <td>112-0000000-0000002</td>\n",
              "      <td>Visa - 0001</td>\n",
              "      <td>Amazon.com</td>\n",
              "      <td>NaN</td>\n",
              "      <td>your_email@gmail.com</td>\n",
              "      <td>04/01/19</td>\n",
              "      <td>Your Name</td>\n",
              "      <td>1 YOUR STREET</td>\n",
              "      <td>NaN</td>\n",
              "      <td>ANYTOWN</td>\n",
              "      <td>ME</td>\n",
              "      <td>00001-0001</td>\n",
              "      <td>Shipped</td>\n",
              "      <td>USPS(0001)</td>\n",
              "      <td>$16.99</td>\n",
              "      <td>$0.00</td>\n",
              "      <td>$0.00</td>\n",
              "      <td>$0.00</td>\n",
              "      <td>$0.00</td>\n",
              "      <td>$16.99</td>\n",
              "      <td>Your Name</td>\n",
              "      <td>NaN</td>\n",
              "    </tr>\n",
              "    <tr>\n",
              "      <th>2</th>\n",
              "      <td>04/01/19</td>\n",
              "      <td>112-0000000-0000003</td>\n",
              "      <td>Visa - 0001</td>\n",
              "      <td>Amazon.com</td>\n",
              "      <td>NaN</td>\n",
              "      <td>your_email@gmail.com</td>\n",
              "      <td>04/01/19</td>\n",
              "      <td>Your Name</td>\n",
              "      <td>1 YOUR STREET</td>\n",
              "      <td>NaN</td>\n",
              "      <td>ANYTOWN</td>\n",
              "      <td>ME</td>\n",
              "      <td>00001-0001</td>\n",
              "      <td>Shipped</td>\n",
              "      <td>USPS(0001)</td>\n",
              "      <td>$9.99</td>\n",
              "      <td>$0.00</td>\n",
              "      <td>$0.00</td>\n",
              "      <td>$0.00</td>\n",
              "      <td>$0.00</td>\n",
              "      <td>$9.99</td>\n",
              "      <td>Your Name</td>\n",
              "      <td>NaN</td>\n",
              "    </tr>\n",
              "    <tr>\n",
              "      <th>3</th>\n",
              "      <td>04/04/19</td>\n",
              "      <td>112-0000000-0000004</td>\n",
              "      <td>Visa - 0001</td>\n",
              "      <td>Amazon.com</td>\n",
              "      <td>NaN</td>\n",
              "      <td>your_email@gmail.com</td>\n",
              "      <td>04/05/19</td>\n",
              "      <td>Your Name</td>\n",
              "      <td>1 YOUR STREET</td>\n",
              "      <td>NaN</td>\n",
              "      <td>ANYTOWN</td>\n",
              "      <td>ME</td>\n",
              "      <td>00001-0001</td>\n",
              "      <td>Shipped</td>\n",
              "      <td>UPS(0002)</td>\n",
              "      <td>$147.98</td>\n",
              "      <td>$0.00</td>\n",
              "      <td>$8.14</td>\n",
              "      <td>$0.00</td>\n",
              "      <td>$8.14</td>\n",
              "      <td>$156.12</td>\n",
              "      <td>Your Name</td>\n",
              "      <td>NaN</td>\n",
              "    </tr>\n",
              "    <tr>\n",
              "      <th>4</th>\n",
              "      <td>04/05/19</td>\n",
              "      <td>112-0000000-0000005</td>\n",
              "      <td>Visa - 0001</td>\n",
              "      <td>Amazon.com</td>\n",
              "      <td>NaN</td>\n",
              "      <td>your_email@gmail.com</td>\n",
              "      <td>04/07/19</td>\n",
              "      <td>Your Name</td>\n",
              "      <td>1 YOUR STREET</td>\n",
              "      <td>NaN</td>\n",
              "      <td>ANYTOWN</td>\n",
              "      <td>ME</td>\n",
              "      <td>00001-0001</td>\n",
              "      <td>Shipped</td>\n",
              "      <td>USPS(0001)</td>\n",
              "      <td>$14.99</td>\n",
              "      <td>$0.00</td>\n",
              "      <td>$0.00</td>\n",
              "      <td>$0.00</td>\n",
              "      <td>$0.00</td>\n",
              "      <td>$14.99</td>\n",
              "      <td>Your Name</td>\n",
              "      <td>NaN</td>\n",
              "    </tr>\n",
              "    <tr>\n",
              "      <th>5</th>\n",
              "      <td>04/05/19</td>\n",
              "      <td>112-0000000-0000006</td>\n",
              "      <td>Visa - 0001</td>\n",
              "      <td>Amazon.com</td>\n",
              "      <td>NaN</td>\n",
              "      <td>your_email@gmail.com</td>\n",
              "      <td>04/08/19</td>\n",
              "      <td>Your Name</td>\n",
              "      <td>1 YOUR STREET</td>\n",
              "      <td>NaN</td>\n",
              "      <td>ANYTOWN</td>\n",
              "      <td>ME</td>\n",
              "      <td>00001-0001</td>\n",
              "      <td>Shipped</td>\n",
              "      <td>USPS(0001)</td>\n",
              "      <td>$11.99</td>\n",
              "      <td>$0.00</td>\n",
              "      <td>$0.66</td>\n",
              "      <td>$0.00</td>\n",
              "      <td>$0.66</td>\n",
              "      <td>$12.65</td>\n",
              "      <td>Your Name</td>\n",
              "      <td>NaN</td>\n",
              "    </tr>\n",
              "    <tr>\n",
              "      <th>6</th>\n",
              "      <td>04/07/19</td>\n",
              "      <td>112-0000000-0000007</td>\n",
              "      <td>Visa - 0001</td>\n",
              "      <td>Amazon.com</td>\n",
              "      <td>NaN</td>\n",
              "      <td>your_email@gmail.com</td>\n",
              "      <td>04/08/19</td>\n",
              "      <td>Your Name</td>\n",
              "      <td>1 YOUR STREET</td>\n",
              "      <td>NaN</td>\n",
              "      <td>ANYTOWN</td>\n",
              "      <td>ME</td>\n",
              "      <td>00001-0001</td>\n",
              "      <td>Shipped</td>\n",
              "      <td>USPS(0001)</td>\n",
              "      <td>$38.98</td>\n",
              "      <td>$0.00</td>\n",
              "      <td>$1.65</td>\n",
              "      <td>$0.00</td>\n",
              "      <td>$1.65</td>\n",
              "      <td>$40.63</td>\n",
              "      <td>Your Name</td>\n",
              "      <td>NaN</td>\n",
              "    </tr>\n",
              "    <tr>\n",
              "      <th>7</th>\n",
              "      <td>04/08/19</td>\n",
              "      <td>112-0000000-0000008</td>\n",
              "      <td>Visa - 0001</td>\n",
              "      <td>Amazon.com</td>\n",
              "      <td>NaN</td>\n",
              "      <td>your_email@gmail.com</td>\n",
              "      <td>04/08/19</td>\n",
              "      <td>Your Name</td>\n",
              "      <td>1 YOUR STREET</td>\n",
              "      <td>NaN</td>\n",
              "      <td>ANYTOWN</td>\n",
              "      <td>ME</td>\n",
              "      <td>00001-0001</td>\n",
              "      <td>Shipped</td>\n",
              "      <td>UPS(0002)</td>\n",
              "      <td>$44.99</td>\n",
              "      <td>$0.00</td>\n",
              "      <td>$0.00</td>\n",
              "      <td>$0.00</td>\n",
              "      <td>$0.00</td>\n",
              "      <td>$44.99</td>\n",
              "      <td>Your Name</td>\n",
              "      <td>NaN</td>\n",
              "    </tr>\n",
              "    <tr>\n",
              "      <th>8</th>\n",
              "      <td>04/20/19</td>\n",
              "      <td>112-0000000-0000009</td>\n",
              "      <td>Visa - 0001</td>\n",
              "      <td>Amazon.com</td>\n",
              "      <td>NaN</td>\n",
              "      <td>your_email@gmail.com</td>\n",
              "      <td>04/21/19</td>\n",
              "      <td>Your Name</td>\n",
              "      <td>1 YOUR STREET</td>\n",
              "      <td>NaN</td>\n",
              "      <td>ANYTOWN</td>\n",
              "      <td>ME</td>\n",
              "      <td>00001-0001</td>\n",
              "      <td>Shipped</td>\n",
              "      <td>USPS(0001)</td>\n",
              "      <td>$27.30</td>\n",
              "      <td>$0.00</td>\n",
              "      <td>$1.50</td>\n",
              "      <td>$0.00</td>\n",
              "      <td>$1.50</td>\n",
              "      <td>$28.80</td>\n",
              "      <td>Your Name</td>\n",
              "      <td>NaN</td>\n",
              "    </tr>\n",
              "    <tr>\n",
              "      <th>9</th>\n",
              "      <td>04/23/19</td>\n",
              "      <td>112-0000000-0000010</td>\n",
              "      <td>Visa - 0001</td>\n",
              "      <td>Amazon.com</td>\n",
              "      <td>NaN</td>\n",
              "      <td>your_email@gmail.com</td>\n",
              "      <td>04/24/19</td>\n",
              "      <td>Your Name</td>\n",
              "      <td>1 YOUR STREET</td>\n",
              "      <td>NaN</td>\n",
              "      <td>ANYTOWN</td>\n",
              "      <td>ME</td>\n",
              "      <td>00001-0001</td>\n",
              "      <td>Shipped</td>\n",
              "      <td>UPS(0002)</td>\n",
              "      <td>$37.08</td>\n",
              "      <td>$0.00</td>\n",
              "      <td>$0.00</td>\n",
              "      <td>$0.00</td>\n",
              "      <td>$0.00</td>\n",
              "      <td>$37.08</td>\n",
              "      <td>Your Name</td>\n",
              "      <td>NaN</td>\n",
              "    </tr>\n",
              "  </tbody>\n",
              "</table>\n",
              "</div>"
            ],
            "text/plain": [
              "  Order Date             Order ID  ... Buyer Name Group Name\n",
              "0   04/01/19  112-0000000-0000001  ...  Your Name        NaN\n",
              "1   04/01/19  112-0000000-0000002  ...  Your Name        NaN\n",
              "2   04/01/19  112-0000000-0000003  ...  Your Name        NaN\n",
              "3   04/04/19  112-0000000-0000004  ...  Your Name        NaN\n",
              "4   04/05/19  112-0000000-0000005  ...  Your Name        NaN\n",
              "5   04/05/19  112-0000000-0000006  ...  Your Name        NaN\n",
              "6   04/07/19  112-0000000-0000007  ...  Your Name        NaN\n",
              "7   04/08/19  112-0000000-0000008  ...  Your Name        NaN\n",
              "8   04/20/19  112-0000000-0000009  ...  Your Name        NaN\n",
              "9   04/23/19  112-0000000-0000010  ...  Your Name        NaN\n",
              "\n",
              "[10 rows x 23 columns]"
            ]
          },
          "metadata": {},
          "execution_count": 3
        }
      ]
    },
    {
      "cell_type": "code",
      "metadata": {
        "colab": {
          "base_uri": "https://localhost:8080/"
        },
        "id": "flOt5yjsK9o8",
        "outputId": "f58b7000-72a7-42ce-adff-a357a9ae5b9b"
      },
      "source": [
        "df.shape"
      ],
      "execution_count": 4,
      "outputs": [
        {
          "output_type": "execute_result",
          "data": {
            "text/plain": [
              "(59, 23)"
            ]
          },
          "metadata": {},
          "execution_count": 4
        }
      ]
    },
    {
      "cell_type": "code",
      "metadata": {
        "id": "Hq3cpnuwJeC2"
      },
      "source": [
        "#Cleaning Data \n",
        "#Cleaning the data is an important part of most data analysis projects, and we’ll need to do a little bit of data cleaning here before we can do our analysis and find out the total sum we’ve spent on Amazon.\n",
        "\n",
        "#Let’s start by dealing with those NaN values. We need to do some math with our data, but 1 + NaN is a tough math problem to solve. NaN, after all, isn’t a number! Since NaN represents the absence of information, let’s just fill in all of those NaN values using pandas’s handy df.fillna() function. This allows us to automatically replace every NaN value with something else. In this case, let’s replace NaN with the number zero.\n",
        "\n",
        "#We need to be a little careful here, though. We don’t just want to replace those values temporarily! We want to replace them and then store that version of the DataFrame as our new DataFrame. We’ll use df = df.fillna(0) to replace the values and re-define our df variable to point to that new dataframe.\n",
        "\n",
        "#Then, we’ll use the .head() function again to make sure our changes worked."
      ],
      "execution_count": 6,
      "outputs": []
    },
    {
      "cell_type": "code",
      "metadata": {
        "colab": {
          "base_uri": "https://localhost:8080/"
        },
        "id": "XXUaGkggLYMj",
        "outputId": "6e162636-146e-477f-cacb-6199b5292098"
      },
      "source": [
        "#we check how many null values are there\n",
        "df.isnull().sum()"
      ],
      "execution_count": 5,
      "outputs": [
        {
          "output_type": "execute_result",
          "data": {
            "text/plain": [
              "Order Date                         0\n",
              "Order ID                           0\n",
              "Payment Instrument Type            0\n",
              "Website                            0\n",
              "Purchase Order Number             59\n",
              "Ordering Customer Email            0\n",
              "Shipment Date                      0\n",
              "Shipping Address Name              0\n",
              "Shipping Address Street 1          0\n",
              "Shipping Address Street 2         59\n",
              "Shipping Address City              0\n",
              "Shipping Address State             0\n",
              "Shipping Address Zip               0\n",
              "Order Status                       0\n",
              "Carrier Name & Tracking Number     0\n",
              "Subtotal                           0\n",
              "Shipping Charge                    0\n",
              "Tax Before Promotions              0\n",
              "Total Promotions                   0\n",
              "Tax Charged                        0\n",
              "Total Charged                      0\n",
              "Buyer Name                         0\n",
              "Group Name                        59\n",
              "dtype: int64"
            ]
          },
          "metadata": {},
          "execution_count": 5
        }
      ]
    },
    {
      "cell_type": "code",
      "metadata": {
        "colab": {
          "base_uri": "https://localhost:8080/",
          "height": 442
        },
        "id": "HjtHF2qbLjC8",
        "outputId": "589e3251-4f97-496a-824f-48d41551b558"
      },
      "source": [
        "#we can fill those column with NaN value with zero\n",
        "#removing NaN value is imp process of data cleaning\n",
        "df = df.fillna(0)\n",
        "df.head()"
      ],
      "execution_count": 7,
      "outputs": [
        {
          "output_type": "execute_result",
          "data": {
            "text/html": [
              "<div>\n",
              "<style scoped>\n",
              "    .dataframe tbody tr th:only-of-type {\n",
              "        vertical-align: middle;\n",
              "    }\n",
              "\n",
              "    .dataframe tbody tr th {\n",
              "        vertical-align: top;\n",
              "    }\n",
              "\n",
              "    .dataframe thead th {\n",
              "        text-align: right;\n",
              "    }\n",
              "</style>\n",
              "<table border=\"1\" class=\"dataframe\">\n",
              "  <thead>\n",
              "    <tr style=\"text-align: right;\">\n",
              "      <th></th>\n",
              "      <th>Order Date</th>\n",
              "      <th>Order ID</th>\n",
              "      <th>Payment Instrument Type</th>\n",
              "      <th>Website</th>\n",
              "      <th>Purchase Order Number</th>\n",
              "      <th>Ordering Customer Email</th>\n",
              "      <th>Shipment Date</th>\n",
              "      <th>Shipping Address Name</th>\n",
              "      <th>Shipping Address Street 1</th>\n",
              "      <th>Shipping Address Street 2</th>\n",
              "      <th>Shipping Address City</th>\n",
              "      <th>Shipping Address State</th>\n",
              "      <th>Shipping Address Zip</th>\n",
              "      <th>Order Status</th>\n",
              "      <th>Carrier Name &amp; Tracking Number</th>\n",
              "      <th>Subtotal</th>\n",
              "      <th>Shipping Charge</th>\n",
              "      <th>Tax Before Promotions</th>\n",
              "      <th>Total Promotions</th>\n",
              "      <th>Tax Charged</th>\n",
              "      <th>Total Charged</th>\n",
              "      <th>Buyer Name</th>\n",
              "      <th>Group Name</th>\n",
              "    </tr>\n",
              "  </thead>\n",
              "  <tbody>\n",
              "    <tr>\n",
              "      <th>0</th>\n",
              "      <td>04/01/19</td>\n",
              "      <td>112-0000000-0000001</td>\n",
              "      <td>Visa - 0001</td>\n",
              "      <td>Amazon.com</td>\n",
              "      <td>0.0</td>\n",
              "      <td>your_email@gmail.com</td>\n",
              "      <td>04/01/19</td>\n",
              "      <td>Your Name</td>\n",
              "      <td>1 YOUR STREET</td>\n",
              "      <td>0.0</td>\n",
              "      <td>ANYTOWN</td>\n",
              "      <td>ME</td>\n",
              "      <td>00001-0001</td>\n",
              "      <td>Shipped</td>\n",
              "      <td>USPS(0001)</td>\n",
              "      <td>$35.00</td>\n",
              "      <td>$0.00</td>\n",
              "      <td>$1.93</td>\n",
              "      <td>$0.00</td>\n",
              "      <td>$1.93</td>\n",
              "      <td>$36.93</td>\n",
              "      <td>Your Name</td>\n",
              "      <td>0.0</td>\n",
              "    </tr>\n",
              "    <tr>\n",
              "      <th>1</th>\n",
              "      <td>04/01/19</td>\n",
              "      <td>112-0000000-0000002</td>\n",
              "      <td>Visa - 0001</td>\n",
              "      <td>Amazon.com</td>\n",
              "      <td>0.0</td>\n",
              "      <td>your_email@gmail.com</td>\n",
              "      <td>04/01/19</td>\n",
              "      <td>Your Name</td>\n",
              "      <td>1 YOUR STREET</td>\n",
              "      <td>0.0</td>\n",
              "      <td>ANYTOWN</td>\n",
              "      <td>ME</td>\n",
              "      <td>00001-0001</td>\n",
              "      <td>Shipped</td>\n",
              "      <td>USPS(0001)</td>\n",
              "      <td>$16.99</td>\n",
              "      <td>$0.00</td>\n",
              "      <td>$0.00</td>\n",
              "      <td>$0.00</td>\n",
              "      <td>$0.00</td>\n",
              "      <td>$16.99</td>\n",
              "      <td>Your Name</td>\n",
              "      <td>0.0</td>\n",
              "    </tr>\n",
              "    <tr>\n",
              "      <th>2</th>\n",
              "      <td>04/01/19</td>\n",
              "      <td>112-0000000-0000003</td>\n",
              "      <td>Visa - 0001</td>\n",
              "      <td>Amazon.com</td>\n",
              "      <td>0.0</td>\n",
              "      <td>your_email@gmail.com</td>\n",
              "      <td>04/01/19</td>\n",
              "      <td>Your Name</td>\n",
              "      <td>1 YOUR STREET</td>\n",
              "      <td>0.0</td>\n",
              "      <td>ANYTOWN</td>\n",
              "      <td>ME</td>\n",
              "      <td>00001-0001</td>\n",
              "      <td>Shipped</td>\n",
              "      <td>USPS(0001)</td>\n",
              "      <td>$9.99</td>\n",
              "      <td>$0.00</td>\n",
              "      <td>$0.00</td>\n",
              "      <td>$0.00</td>\n",
              "      <td>$0.00</td>\n",
              "      <td>$9.99</td>\n",
              "      <td>Your Name</td>\n",
              "      <td>0.0</td>\n",
              "    </tr>\n",
              "    <tr>\n",
              "      <th>3</th>\n",
              "      <td>04/04/19</td>\n",
              "      <td>112-0000000-0000004</td>\n",
              "      <td>Visa - 0001</td>\n",
              "      <td>Amazon.com</td>\n",
              "      <td>0.0</td>\n",
              "      <td>your_email@gmail.com</td>\n",
              "      <td>04/05/19</td>\n",
              "      <td>Your Name</td>\n",
              "      <td>1 YOUR STREET</td>\n",
              "      <td>0.0</td>\n",
              "      <td>ANYTOWN</td>\n",
              "      <td>ME</td>\n",
              "      <td>00001-0001</td>\n",
              "      <td>Shipped</td>\n",
              "      <td>UPS(0002)</td>\n",
              "      <td>$147.98</td>\n",
              "      <td>$0.00</td>\n",
              "      <td>$8.14</td>\n",
              "      <td>$0.00</td>\n",
              "      <td>$8.14</td>\n",
              "      <td>$156.12</td>\n",
              "      <td>Your Name</td>\n",
              "      <td>0.0</td>\n",
              "    </tr>\n",
              "    <tr>\n",
              "      <th>4</th>\n",
              "      <td>04/05/19</td>\n",
              "      <td>112-0000000-0000005</td>\n",
              "      <td>Visa - 0001</td>\n",
              "      <td>Amazon.com</td>\n",
              "      <td>0.0</td>\n",
              "      <td>your_email@gmail.com</td>\n",
              "      <td>04/07/19</td>\n",
              "      <td>Your Name</td>\n",
              "      <td>1 YOUR STREET</td>\n",
              "      <td>0.0</td>\n",
              "      <td>ANYTOWN</td>\n",
              "      <td>ME</td>\n",
              "      <td>00001-0001</td>\n",
              "      <td>Shipped</td>\n",
              "      <td>USPS(0001)</td>\n",
              "      <td>$14.99</td>\n",
              "      <td>$0.00</td>\n",
              "      <td>$0.00</td>\n",
              "      <td>$0.00</td>\n",
              "      <td>$0.00</td>\n",
              "      <td>$14.99</td>\n",
              "      <td>Your Name</td>\n",
              "      <td>0.0</td>\n",
              "    </tr>\n",
              "  </tbody>\n",
              "</table>\n",
              "</div>"
            ],
            "text/plain": [
              "  Order Date             Order ID  ... Buyer Name Group Name\n",
              "0   04/01/19  112-0000000-0000001  ...  Your Name        0.0\n",
              "1   04/01/19  112-0000000-0000002  ...  Your Name        0.0\n",
              "2   04/01/19  112-0000000-0000003  ...  Your Name        0.0\n",
              "3   04/04/19  112-0000000-0000004  ...  Your Name        0.0\n",
              "4   04/05/19  112-0000000-0000005  ...  Your Name        0.0\n",
              "\n",
              "[5 rows x 23 columns]"
            ]
          },
          "metadata": {},
          "execution_count": 7
        }
      ]
    },
    {
      "cell_type": "code",
      "metadata": {
        "colab": {
          "base_uri": "https://localhost:8080/",
          "height": 442
        },
        "id": "twvBEyK5MCT-",
        "outputId": "97cb3918-15e0-4a25-950a-561bb7b3b47d"
      },
      "source": [
        "#remove dollar sign and convert prize from string to float\n",
        "#df[\"Total Charged\"] = df[\"Total Charged\"].str.replace('$','').astype(float)\n",
        "df[\"Total Charged\"] = df[\"Total Charged\"].astype(float)\n",
        "df.head()"
      ],
      "execution_count": 11,
      "outputs": [
        {
          "output_type": "execute_result",
          "data": {
            "text/html": [
              "<div>\n",
              "<style scoped>\n",
              "    .dataframe tbody tr th:only-of-type {\n",
              "        vertical-align: middle;\n",
              "    }\n",
              "\n",
              "    .dataframe tbody tr th {\n",
              "        vertical-align: top;\n",
              "    }\n",
              "\n",
              "    .dataframe thead th {\n",
              "        text-align: right;\n",
              "    }\n",
              "</style>\n",
              "<table border=\"1\" class=\"dataframe\">\n",
              "  <thead>\n",
              "    <tr style=\"text-align: right;\">\n",
              "      <th></th>\n",
              "      <th>Order Date</th>\n",
              "      <th>Order ID</th>\n",
              "      <th>Payment Instrument Type</th>\n",
              "      <th>Website</th>\n",
              "      <th>Purchase Order Number</th>\n",
              "      <th>Ordering Customer Email</th>\n",
              "      <th>Shipment Date</th>\n",
              "      <th>Shipping Address Name</th>\n",
              "      <th>Shipping Address Street 1</th>\n",
              "      <th>Shipping Address Street 2</th>\n",
              "      <th>Shipping Address City</th>\n",
              "      <th>Shipping Address State</th>\n",
              "      <th>Shipping Address Zip</th>\n",
              "      <th>Order Status</th>\n",
              "      <th>Carrier Name &amp; Tracking Number</th>\n",
              "      <th>Subtotal</th>\n",
              "      <th>Shipping Charge</th>\n",
              "      <th>Tax Before Promotions</th>\n",
              "      <th>Total Promotions</th>\n",
              "      <th>Tax Charged</th>\n",
              "      <th>Total Charged</th>\n",
              "      <th>Buyer Name</th>\n",
              "      <th>Group Name</th>\n",
              "    </tr>\n",
              "  </thead>\n",
              "  <tbody>\n",
              "    <tr>\n",
              "      <th>0</th>\n",
              "      <td>04/01/19</td>\n",
              "      <td>112-0000000-0000001</td>\n",
              "      <td>Visa - 0001</td>\n",
              "      <td>Amazon.com</td>\n",
              "      <td>0.0</td>\n",
              "      <td>your_email@gmail.com</td>\n",
              "      <td>04/01/19</td>\n",
              "      <td>Your Name</td>\n",
              "      <td>1 YOUR STREET</td>\n",
              "      <td>0.0</td>\n",
              "      <td>ANYTOWN</td>\n",
              "      <td>ME</td>\n",
              "      <td>00001-0001</td>\n",
              "      <td>Shipped</td>\n",
              "      <td>USPS(0001)</td>\n",
              "      <td>$35.00</td>\n",
              "      <td>$0.00</td>\n",
              "      <td>$1.93</td>\n",
              "      <td>$0.00</td>\n",
              "      <td>$1.93</td>\n",
              "      <td>36.93</td>\n",
              "      <td>Your Name</td>\n",
              "      <td>0.0</td>\n",
              "    </tr>\n",
              "    <tr>\n",
              "      <th>1</th>\n",
              "      <td>04/01/19</td>\n",
              "      <td>112-0000000-0000002</td>\n",
              "      <td>Visa - 0001</td>\n",
              "      <td>Amazon.com</td>\n",
              "      <td>0.0</td>\n",
              "      <td>your_email@gmail.com</td>\n",
              "      <td>04/01/19</td>\n",
              "      <td>Your Name</td>\n",
              "      <td>1 YOUR STREET</td>\n",
              "      <td>0.0</td>\n",
              "      <td>ANYTOWN</td>\n",
              "      <td>ME</td>\n",
              "      <td>00001-0001</td>\n",
              "      <td>Shipped</td>\n",
              "      <td>USPS(0001)</td>\n",
              "      <td>$16.99</td>\n",
              "      <td>$0.00</td>\n",
              "      <td>$0.00</td>\n",
              "      <td>$0.00</td>\n",
              "      <td>$0.00</td>\n",
              "      <td>16.99</td>\n",
              "      <td>Your Name</td>\n",
              "      <td>0.0</td>\n",
              "    </tr>\n",
              "    <tr>\n",
              "      <th>2</th>\n",
              "      <td>04/01/19</td>\n",
              "      <td>112-0000000-0000003</td>\n",
              "      <td>Visa - 0001</td>\n",
              "      <td>Amazon.com</td>\n",
              "      <td>0.0</td>\n",
              "      <td>your_email@gmail.com</td>\n",
              "      <td>04/01/19</td>\n",
              "      <td>Your Name</td>\n",
              "      <td>1 YOUR STREET</td>\n",
              "      <td>0.0</td>\n",
              "      <td>ANYTOWN</td>\n",
              "      <td>ME</td>\n",
              "      <td>00001-0001</td>\n",
              "      <td>Shipped</td>\n",
              "      <td>USPS(0001)</td>\n",
              "      <td>$9.99</td>\n",
              "      <td>$0.00</td>\n",
              "      <td>$0.00</td>\n",
              "      <td>$0.00</td>\n",
              "      <td>$0.00</td>\n",
              "      <td>9.99</td>\n",
              "      <td>Your Name</td>\n",
              "      <td>0.0</td>\n",
              "    </tr>\n",
              "    <tr>\n",
              "      <th>3</th>\n",
              "      <td>04/04/19</td>\n",
              "      <td>112-0000000-0000004</td>\n",
              "      <td>Visa - 0001</td>\n",
              "      <td>Amazon.com</td>\n",
              "      <td>0.0</td>\n",
              "      <td>your_email@gmail.com</td>\n",
              "      <td>04/05/19</td>\n",
              "      <td>Your Name</td>\n",
              "      <td>1 YOUR STREET</td>\n",
              "      <td>0.0</td>\n",
              "      <td>ANYTOWN</td>\n",
              "      <td>ME</td>\n",
              "      <td>00001-0001</td>\n",
              "      <td>Shipped</td>\n",
              "      <td>UPS(0002)</td>\n",
              "      <td>$147.98</td>\n",
              "      <td>$0.00</td>\n",
              "      <td>$8.14</td>\n",
              "      <td>$0.00</td>\n",
              "      <td>$8.14</td>\n",
              "      <td>156.12</td>\n",
              "      <td>Your Name</td>\n",
              "      <td>0.0</td>\n",
              "    </tr>\n",
              "    <tr>\n",
              "      <th>4</th>\n",
              "      <td>04/05/19</td>\n",
              "      <td>112-0000000-0000005</td>\n",
              "      <td>Visa - 0001</td>\n",
              "      <td>Amazon.com</td>\n",
              "      <td>0.0</td>\n",
              "      <td>your_email@gmail.com</td>\n",
              "      <td>04/07/19</td>\n",
              "      <td>Your Name</td>\n",
              "      <td>1 YOUR STREET</td>\n",
              "      <td>0.0</td>\n",
              "      <td>ANYTOWN</td>\n",
              "      <td>ME</td>\n",
              "      <td>00001-0001</td>\n",
              "      <td>Shipped</td>\n",
              "      <td>USPS(0001)</td>\n",
              "      <td>$14.99</td>\n",
              "      <td>$0.00</td>\n",
              "      <td>$0.00</td>\n",
              "      <td>$0.00</td>\n",
              "      <td>$0.00</td>\n",
              "      <td>14.99</td>\n",
              "      <td>Your Name</td>\n",
              "      <td>0.0</td>\n",
              "    </tr>\n",
              "  </tbody>\n",
              "</table>\n",
              "</div>"
            ],
            "text/plain": [
              "  Order Date             Order ID  ... Buyer Name Group Name\n",
              "0   04/01/19  112-0000000-0000001  ...  Your Name        0.0\n",
              "1   04/01/19  112-0000000-0000002  ...  Your Name        0.0\n",
              "2   04/01/19  112-0000000-0000003  ...  Your Name        0.0\n",
              "3   04/04/19  112-0000000-0000004  ...  Your Name        0.0\n",
              "4   04/05/19  112-0000000-0000005  ...  Your Name        0.0\n",
              "\n",
              "[5 rows x 23 columns]"
            ]
          },
          "metadata": {},
          "execution_count": 11
        }
      ]
    },
    {
      "cell_type": "code",
      "metadata": {
        "colab": {
          "base_uri": "https://localhost:8080/"
        },
        "id": "r1m7RHHNNdUk",
        "outputId": "5e0bef41-c775-4c2c-9fbd-db013a9b5111"
      },
      "source": [
        "df[\"Total Charged\"].sum()"
      ],
      "execution_count": 12,
      "outputs": [
        {
          "output_type": "execute_result",
          "data": {
            "text/plain": [
              "1777.7300000000002"
            ]
          },
          "metadata": {},
          "execution_count": 12
        }
      ]
    },
    {
      "cell_type": "code",
      "metadata": {
        "colab": {
          "base_uri": "https://localhost:8080/"
        },
        "id": "IHm0OInxNtFB",
        "outputId": "7aeef8db-0c4b-4752-c112-c80d7bab501b"
      },
      "source": [
        "#mean is the average in maths \n",
        "df[\"Total Charged\"].mean()"
      ],
      "execution_count": 13,
      "outputs": [
        {
          "output_type": "execute_result",
          "data": {
            "text/plain": [
              "30.131016949152542"
            ]
          },
          "metadata": {},
          "execution_count": 13
        }
      ]
    },
    {
      "cell_type": "code",
      "metadata": {
        "colab": {
          "base_uri": "https://localhost:8080/"
        },
        "id": "gUFyFeDuN1gh",
        "outputId": "35a2120c-5d36-47fd-b000-c93d24d7dfb9"
      },
      "source": [
        "#median is the middle number after arranging in asc/desc\n",
        "df[\"Total Charged\"].median()"
      ],
      "execution_count": 14,
      "outputs": [
        {
          "output_type": "execute_result",
          "data": {
            "text/plain": [
              "15.95"
            ]
          },
          "metadata": {},
          "execution_count": 14
        }
      ]
    },
    {
      "cell_type": "code",
      "metadata": {
        "colab": {
          "base_uri": "https://localhost:8080/"
        },
        "id": "uJlzOPSkN-2u",
        "outputId": "7b391fc4-c23f-48f7-e6bd-a6b73e787694"
      },
      "source": [
        "df[\"Total Charged\"].min()"
      ],
      "execution_count": 16,
      "outputs": [
        {
          "output_type": "execute_result",
          "data": {
            "text/plain": [
              "1.04"
            ]
          },
          "metadata": {},
          "execution_count": 16
        }
      ]
    },
    {
      "cell_type": "code",
      "metadata": {
        "colab": {
          "base_uri": "https://localhost:8080/"
        },
        "id": "ItieF-JAOTml",
        "outputId": "e22c4f23-b61a-4c48-9235-238226478665"
      },
      "source": [
        "df[\"Total Charged\"].max()"
      ],
      "execution_count": 17,
      "outputs": [
        {
          "output_type": "execute_result",
          "data": {
            "text/plain": [
              "210.99"
            ]
          },
          "metadata": {},
          "execution_count": 17
        }
      ]
    },
    {
      "cell_type": "code",
      "metadata": {
        "colab": {
          "base_uri": "https://localhost:8080/"
        },
        "id": "SrROZC_9OUzq",
        "outputId": "a6c73888-8663-4815-9464-44403a4f21b8"
      },
      "source": [
        "df[\"Total Charged\"].mode()"
      ],
      "execution_count": 18,
      "outputs": [
        {
          "output_type": "execute_result",
          "data": {
            "text/plain": [
              "0    12.99\n",
              "dtype: float64"
            ]
          },
          "metadata": {},
          "execution_count": 18
        }
      ]
    },
    {
      "cell_type": "code",
      "metadata": {
        "colab": {
          "base_uri": "https://localhost:8080/",
          "height": 442
        },
        "id": "WzquAqI5Od5D",
        "outputId": "93c4d780-1304-44a0-b49a-45d51f2249cb"
      },
      "source": [
        "df[\"Tax Charged\"] = df[\"Tax Charged\"].str.replace('$','').astype(float)\n",
        "df.head()"
      ],
      "execution_count": 19,
      "outputs": [
        {
          "output_type": "execute_result",
          "data": {
            "text/html": [
              "<div>\n",
              "<style scoped>\n",
              "    .dataframe tbody tr th:only-of-type {\n",
              "        vertical-align: middle;\n",
              "    }\n",
              "\n",
              "    .dataframe tbody tr th {\n",
              "        vertical-align: top;\n",
              "    }\n",
              "\n",
              "    .dataframe thead th {\n",
              "        text-align: right;\n",
              "    }\n",
              "</style>\n",
              "<table border=\"1\" class=\"dataframe\">\n",
              "  <thead>\n",
              "    <tr style=\"text-align: right;\">\n",
              "      <th></th>\n",
              "      <th>Order Date</th>\n",
              "      <th>Order ID</th>\n",
              "      <th>Payment Instrument Type</th>\n",
              "      <th>Website</th>\n",
              "      <th>Purchase Order Number</th>\n",
              "      <th>Ordering Customer Email</th>\n",
              "      <th>Shipment Date</th>\n",
              "      <th>Shipping Address Name</th>\n",
              "      <th>Shipping Address Street 1</th>\n",
              "      <th>Shipping Address Street 2</th>\n",
              "      <th>Shipping Address City</th>\n",
              "      <th>Shipping Address State</th>\n",
              "      <th>Shipping Address Zip</th>\n",
              "      <th>Order Status</th>\n",
              "      <th>Carrier Name &amp; Tracking Number</th>\n",
              "      <th>Subtotal</th>\n",
              "      <th>Shipping Charge</th>\n",
              "      <th>Tax Before Promotions</th>\n",
              "      <th>Total Promotions</th>\n",
              "      <th>Tax Charged</th>\n",
              "      <th>Total Charged</th>\n",
              "      <th>Buyer Name</th>\n",
              "      <th>Group Name</th>\n",
              "    </tr>\n",
              "  </thead>\n",
              "  <tbody>\n",
              "    <tr>\n",
              "      <th>0</th>\n",
              "      <td>04/01/19</td>\n",
              "      <td>112-0000000-0000001</td>\n",
              "      <td>Visa - 0001</td>\n",
              "      <td>Amazon.com</td>\n",
              "      <td>0.0</td>\n",
              "      <td>your_email@gmail.com</td>\n",
              "      <td>04/01/19</td>\n",
              "      <td>Your Name</td>\n",
              "      <td>1 YOUR STREET</td>\n",
              "      <td>0.0</td>\n",
              "      <td>ANYTOWN</td>\n",
              "      <td>ME</td>\n",
              "      <td>00001-0001</td>\n",
              "      <td>Shipped</td>\n",
              "      <td>USPS(0001)</td>\n",
              "      <td>$35.00</td>\n",
              "      <td>$0.00</td>\n",
              "      <td>$1.93</td>\n",
              "      <td>$0.00</td>\n",
              "      <td>1.93</td>\n",
              "      <td>36.93</td>\n",
              "      <td>Your Name</td>\n",
              "      <td>0.0</td>\n",
              "    </tr>\n",
              "    <tr>\n",
              "      <th>1</th>\n",
              "      <td>04/01/19</td>\n",
              "      <td>112-0000000-0000002</td>\n",
              "      <td>Visa - 0001</td>\n",
              "      <td>Amazon.com</td>\n",
              "      <td>0.0</td>\n",
              "      <td>your_email@gmail.com</td>\n",
              "      <td>04/01/19</td>\n",
              "      <td>Your Name</td>\n",
              "      <td>1 YOUR STREET</td>\n",
              "      <td>0.0</td>\n",
              "      <td>ANYTOWN</td>\n",
              "      <td>ME</td>\n",
              "      <td>00001-0001</td>\n",
              "      <td>Shipped</td>\n",
              "      <td>USPS(0001)</td>\n",
              "      <td>$16.99</td>\n",
              "      <td>$0.00</td>\n",
              "      <td>$0.00</td>\n",
              "      <td>$0.00</td>\n",
              "      <td>0.00</td>\n",
              "      <td>16.99</td>\n",
              "      <td>Your Name</td>\n",
              "      <td>0.0</td>\n",
              "    </tr>\n",
              "    <tr>\n",
              "      <th>2</th>\n",
              "      <td>04/01/19</td>\n",
              "      <td>112-0000000-0000003</td>\n",
              "      <td>Visa - 0001</td>\n",
              "      <td>Amazon.com</td>\n",
              "      <td>0.0</td>\n",
              "      <td>your_email@gmail.com</td>\n",
              "      <td>04/01/19</td>\n",
              "      <td>Your Name</td>\n",
              "      <td>1 YOUR STREET</td>\n",
              "      <td>0.0</td>\n",
              "      <td>ANYTOWN</td>\n",
              "      <td>ME</td>\n",
              "      <td>00001-0001</td>\n",
              "      <td>Shipped</td>\n",
              "      <td>USPS(0001)</td>\n",
              "      <td>$9.99</td>\n",
              "      <td>$0.00</td>\n",
              "      <td>$0.00</td>\n",
              "      <td>$0.00</td>\n",
              "      <td>0.00</td>\n",
              "      <td>9.99</td>\n",
              "      <td>Your Name</td>\n",
              "      <td>0.0</td>\n",
              "    </tr>\n",
              "    <tr>\n",
              "      <th>3</th>\n",
              "      <td>04/04/19</td>\n",
              "      <td>112-0000000-0000004</td>\n",
              "      <td>Visa - 0001</td>\n",
              "      <td>Amazon.com</td>\n",
              "      <td>0.0</td>\n",
              "      <td>your_email@gmail.com</td>\n",
              "      <td>04/05/19</td>\n",
              "      <td>Your Name</td>\n",
              "      <td>1 YOUR STREET</td>\n",
              "      <td>0.0</td>\n",
              "      <td>ANYTOWN</td>\n",
              "      <td>ME</td>\n",
              "      <td>00001-0001</td>\n",
              "      <td>Shipped</td>\n",
              "      <td>UPS(0002)</td>\n",
              "      <td>$147.98</td>\n",
              "      <td>$0.00</td>\n",
              "      <td>$8.14</td>\n",
              "      <td>$0.00</td>\n",
              "      <td>8.14</td>\n",
              "      <td>156.12</td>\n",
              "      <td>Your Name</td>\n",
              "      <td>0.0</td>\n",
              "    </tr>\n",
              "    <tr>\n",
              "      <th>4</th>\n",
              "      <td>04/05/19</td>\n",
              "      <td>112-0000000-0000005</td>\n",
              "      <td>Visa - 0001</td>\n",
              "      <td>Amazon.com</td>\n",
              "      <td>0.0</td>\n",
              "      <td>your_email@gmail.com</td>\n",
              "      <td>04/07/19</td>\n",
              "      <td>Your Name</td>\n",
              "      <td>1 YOUR STREET</td>\n",
              "      <td>0.0</td>\n",
              "      <td>ANYTOWN</td>\n",
              "      <td>ME</td>\n",
              "      <td>00001-0001</td>\n",
              "      <td>Shipped</td>\n",
              "      <td>USPS(0001)</td>\n",
              "      <td>$14.99</td>\n",
              "      <td>$0.00</td>\n",
              "      <td>$0.00</td>\n",
              "      <td>$0.00</td>\n",
              "      <td>0.00</td>\n",
              "      <td>14.99</td>\n",
              "      <td>Your Name</td>\n",
              "      <td>0.0</td>\n",
              "    </tr>\n",
              "  </tbody>\n",
              "</table>\n",
              "</div>"
            ],
            "text/plain": [
              "  Order Date             Order ID  ... Buyer Name Group Name\n",
              "0   04/01/19  112-0000000-0000001  ...  Your Name        0.0\n",
              "1   04/01/19  112-0000000-0000002  ...  Your Name        0.0\n",
              "2   04/01/19  112-0000000-0000003  ...  Your Name        0.0\n",
              "3   04/04/19  112-0000000-0000004  ...  Your Name        0.0\n",
              "4   04/05/19  112-0000000-0000005  ...  Your Name        0.0\n",
              "\n",
              "[5 rows x 23 columns]"
            ]
          },
          "metadata": {},
          "execution_count": 19
        }
      ]
    },
    {
      "cell_type": "code",
      "metadata": {
        "colab": {
          "base_uri": "https://localhost:8080/"
        },
        "id": "uBxFFmFYOqUH",
        "outputId": "fe8f63b5-1cc7-4e8b-ee7d-fc401981eb0e"
      },
      "source": [
        "df[\"Tax Charged\"].sum()"
      ],
      "execution_count": 20,
      "outputs": [
        {
          "output_type": "execute_result",
          "data": {
            "text/plain": [
              "52.60999999999999"
            ]
          },
          "metadata": {},
          "execution_count": 20
        }
      ]
    },
    {
      "cell_type": "code",
      "metadata": {
        "colab": {
          "base_uri": "https://localhost:8080/"
        },
        "id": "K_VWej34OwDc",
        "outputId": "5e716088-5a65-4354-d5e7-f15f814f781f"
      },
      "source": [
        "df[\"Tax Charged\"].sum() / df[\"Total Charged\"].sum()"
      ],
      "execution_count": 21,
      "outputs": [
        {
          "output_type": "execute_result",
          "data": {
            "text/plain": [
              "0.02959392033660904"
            ]
          },
          "metadata": {},
          "execution_count": 21
        }
      ]
    },
    {
      "cell_type": "code",
      "metadata": {
        "colab": {
          "base_uri": "https://localhost:8080/",
          "height": 442
        },
        "id": "xZYYb0RnO90Z",
        "outputId": "0763df6a-3777-44f5-c817-5b2b2fe153e5"
      },
      "source": [
        "#Analyzing Amazon Spending Over Time\n",
        "#datetime object used\n",
        "df['Order Date'] = pd.to_datetime(df['Order Date'])\n",
        "df.head()"
      ],
      "execution_count": 22,
      "outputs": [
        {
          "output_type": "execute_result",
          "data": {
            "text/html": [
              "<div>\n",
              "<style scoped>\n",
              "    .dataframe tbody tr th:only-of-type {\n",
              "        vertical-align: middle;\n",
              "    }\n",
              "\n",
              "    .dataframe tbody tr th {\n",
              "        vertical-align: top;\n",
              "    }\n",
              "\n",
              "    .dataframe thead th {\n",
              "        text-align: right;\n",
              "    }\n",
              "</style>\n",
              "<table border=\"1\" class=\"dataframe\">\n",
              "  <thead>\n",
              "    <tr style=\"text-align: right;\">\n",
              "      <th></th>\n",
              "      <th>Order Date</th>\n",
              "      <th>Order ID</th>\n",
              "      <th>Payment Instrument Type</th>\n",
              "      <th>Website</th>\n",
              "      <th>Purchase Order Number</th>\n",
              "      <th>Ordering Customer Email</th>\n",
              "      <th>Shipment Date</th>\n",
              "      <th>Shipping Address Name</th>\n",
              "      <th>Shipping Address Street 1</th>\n",
              "      <th>Shipping Address Street 2</th>\n",
              "      <th>Shipping Address City</th>\n",
              "      <th>Shipping Address State</th>\n",
              "      <th>Shipping Address Zip</th>\n",
              "      <th>Order Status</th>\n",
              "      <th>Carrier Name &amp; Tracking Number</th>\n",
              "      <th>Subtotal</th>\n",
              "      <th>Shipping Charge</th>\n",
              "      <th>Tax Before Promotions</th>\n",
              "      <th>Total Promotions</th>\n",
              "      <th>Tax Charged</th>\n",
              "      <th>Total Charged</th>\n",
              "      <th>Buyer Name</th>\n",
              "      <th>Group Name</th>\n",
              "    </tr>\n",
              "  </thead>\n",
              "  <tbody>\n",
              "    <tr>\n",
              "      <th>0</th>\n",
              "      <td>2019-04-01</td>\n",
              "      <td>112-0000000-0000001</td>\n",
              "      <td>Visa - 0001</td>\n",
              "      <td>Amazon.com</td>\n",
              "      <td>0.0</td>\n",
              "      <td>your_email@gmail.com</td>\n",
              "      <td>04/01/19</td>\n",
              "      <td>Your Name</td>\n",
              "      <td>1 YOUR STREET</td>\n",
              "      <td>0.0</td>\n",
              "      <td>ANYTOWN</td>\n",
              "      <td>ME</td>\n",
              "      <td>00001-0001</td>\n",
              "      <td>Shipped</td>\n",
              "      <td>USPS(0001)</td>\n",
              "      <td>$35.00</td>\n",
              "      <td>$0.00</td>\n",
              "      <td>$1.93</td>\n",
              "      <td>$0.00</td>\n",
              "      <td>1.93</td>\n",
              "      <td>36.93</td>\n",
              "      <td>Your Name</td>\n",
              "      <td>0.0</td>\n",
              "    </tr>\n",
              "    <tr>\n",
              "      <th>1</th>\n",
              "      <td>2019-04-01</td>\n",
              "      <td>112-0000000-0000002</td>\n",
              "      <td>Visa - 0001</td>\n",
              "      <td>Amazon.com</td>\n",
              "      <td>0.0</td>\n",
              "      <td>your_email@gmail.com</td>\n",
              "      <td>04/01/19</td>\n",
              "      <td>Your Name</td>\n",
              "      <td>1 YOUR STREET</td>\n",
              "      <td>0.0</td>\n",
              "      <td>ANYTOWN</td>\n",
              "      <td>ME</td>\n",
              "      <td>00001-0001</td>\n",
              "      <td>Shipped</td>\n",
              "      <td>USPS(0001)</td>\n",
              "      <td>$16.99</td>\n",
              "      <td>$0.00</td>\n",
              "      <td>$0.00</td>\n",
              "      <td>$0.00</td>\n",
              "      <td>0.00</td>\n",
              "      <td>16.99</td>\n",
              "      <td>Your Name</td>\n",
              "      <td>0.0</td>\n",
              "    </tr>\n",
              "    <tr>\n",
              "      <th>2</th>\n",
              "      <td>2019-04-01</td>\n",
              "      <td>112-0000000-0000003</td>\n",
              "      <td>Visa - 0001</td>\n",
              "      <td>Amazon.com</td>\n",
              "      <td>0.0</td>\n",
              "      <td>your_email@gmail.com</td>\n",
              "      <td>04/01/19</td>\n",
              "      <td>Your Name</td>\n",
              "      <td>1 YOUR STREET</td>\n",
              "      <td>0.0</td>\n",
              "      <td>ANYTOWN</td>\n",
              "      <td>ME</td>\n",
              "      <td>00001-0001</td>\n",
              "      <td>Shipped</td>\n",
              "      <td>USPS(0001)</td>\n",
              "      <td>$9.99</td>\n",
              "      <td>$0.00</td>\n",
              "      <td>$0.00</td>\n",
              "      <td>$0.00</td>\n",
              "      <td>0.00</td>\n",
              "      <td>9.99</td>\n",
              "      <td>Your Name</td>\n",
              "      <td>0.0</td>\n",
              "    </tr>\n",
              "    <tr>\n",
              "      <th>3</th>\n",
              "      <td>2019-04-04</td>\n",
              "      <td>112-0000000-0000004</td>\n",
              "      <td>Visa - 0001</td>\n",
              "      <td>Amazon.com</td>\n",
              "      <td>0.0</td>\n",
              "      <td>your_email@gmail.com</td>\n",
              "      <td>04/05/19</td>\n",
              "      <td>Your Name</td>\n",
              "      <td>1 YOUR STREET</td>\n",
              "      <td>0.0</td>\n",
              "      <td>ANYTOWN</td>\n",
              "      <td>ME</td>\n",
              "      <td>00001-0001</td>\n",
              "      <td>Shipped</td>\n",
              "      <td>UPS(0002)</td>\n",
              "      <td>$147.98</td>\n",
              "      <td>$0.00</td>\n",
              "      <td>$8.14</td>\n",
              "      <td>$0.00</td>\n",
              "      <td>8.14</td>\n",
              "      <td>156.12</td>\n",
              "      <td>Your Name</td>\n",
              "      <td>0.0</td>\n",
              "    </tr>\n",
              "    <tr>\n",
              "      <th>4</th>\n",
              "      <td>2019-04-05</td>\n",
              "      <td>112-0000000-0000005</td>\n",
              "      <td>Visa - 0001</td>\n",
              "      <td>Amazon.com</td>\n",
              "      <td>0.0</td>\n",
              "      <td>your_email@gmail.com</td>\n",
              "      <td>04/07/19</td>\n",
              "      <td>Your Name</td>\n",
              "      <td>1 YOUR STREET</td>\n",
              "      <td>0.0</td>\n",
              "      <td>ANYTOWN</td>\n",
              "      <td>ME</td>\n",
              "      <td>00001-0001</td>\n",
              "      <td>Shipped</td>\n",
              "      <td>USPS(0001)</td>\n",
              "      <td>$14.99</td>\n",
              "      <td>$0.00</td>\n",
              "      <td>$0.00</td>\n",
              "      <td>$0.00</td>\n",
              "      <td>0.00</td>\n",
              "      <td>14.99</td>\n",
              "      <td>Your Name</td>\n",
              "      <td>0.0</td>\n",
              "    </tr>\n",
              "  </tbody>\n",
              "</table>\n",
              "</div>"
            ],
            "text/plain": [
              "  Order Date             Order ID  ... Buyer Name Group Name\n",
              "0 2019-04-01  112-0000000-0000001  ...  Your Name        0.0\n",
              "1 2019-04-01  112-0000000-0000002  ...  Your Name        0.0\n",
              "2 2019-04-01  112-0000000-0000003  ...  Your Name        0.0\n",
              "3 2019-04-04  112-0000000-0000004  ...  Your Name        0.0\n",
              "4 2019-04-05  112-0000000-0000005  ...  Your Name        0.0\n",
              "\n",
              "[5 rows x 23 columns]"
            ]
          },
          "metadata": {},
          "execution_count": 22
        }
      ]
    },
    {
      "cell_type": "code",
      "metadata": {
        "id": "h1z-HlqpPT_x"
      },
      "source": [
        "#Visulaisation and analysation using graph\n",
        "#print graph below code (not print in popup)\n",
        "%matplotlib inline"
      ],
      "execution_count": 23,
      "outputs": []
    },
    {
      "cell_type": "code",
      "metadata": {
        "colab": {
          "base_uri": "https://localhost:8080/",
          "height": 693
        },
        "id": "HFcSv8CAPocu",
        "outputId": "453a98fe-6d25-4fad-b20f-cb6ba5f62aaf"
      },
      "source": [
        "#Bar graph (represents the frequency)\n",
        "df.plot.bar(x='Order Date', y='Total Charged', rot=90, figsize=(20,10))\n",
        "#rotation = 90 degree so that text are visible"
      ],
      "execution_count": 27,
      "outputs": [
        {
          "output_type": "execute_result",
          "data": {
            "text/plain": [
              "<matplotlib.axes._subplots.AxesSubplot at 0x7fefcde278d0>"
            ]
          },
          "metadata": {},
          "execution_count": 27
        },
        {
          "output_type": "display_data",
          "data": {
            "image/png": "[encoded data removed]",
            "text/plain": [
              "<Figure size 1440x720 with 1 Axes>"
            ]
          },
          "metadata": {
            "needs_background": "light"
          }
        }
      ]
    },
    {
      "cell_type": "code",
      "metadata": {
        "colab": {
          "base_uri": "https://localhost:8080/"
        },
        "id": "Z9_SrPKhP2-G",
        "outputId": "521dd14d-2330-4220-9117-57f120aac5ee"
      },
      "source": [
        "#Grouping orders based on orderdate;orders on same day will be grouped together\n",
        "daily_orders = df.groupby('Order Date').sum()[\"Total Charged\"]\n",
        "daily_orders.head()"
      ],
      "execution_count": 29,
      "outputs": [
        {
          "output_type": "execute_result",
          "data": {
            "text/plain": [
              "Order Date\n",
              "2019-04-01     63.91\n",
              "2019-04-04    156.12\n",
              "2019-04-05     27.64\n",
              "2019-04-07     40.63\n",
              "2019-04-08     44.99\n",
              "Name: Total Charged, dtype: float64"
            ]
          },
          "metadata": {},
          "execution_count": 29
        }
      ]
    },
    {
      "cell_type": "code",
      "metadata": {
        "colab": {
          "base_uri": "https://localhost:8080/",
          "height": 693
        },
        "id": "qDsHND0PQt5i",
        "outputId": "d9bd770e-47a0-4b21-aa7b-463777743ea4"
      },
      "source": [
        "daily_orders.plot.bar(figsize=(20,10))"
      ],
      "execution_count": 30,
      "outputs": [
        {
          "output_type": "execute_result",
          "data": {
            "text/plain": [
              "<matplotlib.axes._subplots.AxesSubplot at 0x7fefcdc0a6d0>"
            ]
          },
          "metadata": {},
          "execution_count": 30
        },
        {
          "output_type": "display_data",
          "data": {
            "image/png": "[encoded data removed]",
            "text/plain": [
              "<Figure size 1440x720 with 1 Axes>"
            ]
          },
          "metadata": {
            "needs_background": "light"
          }
        }
      ]
    },
    {
      "cell_type": "code",
      "metadata": {
        "id": "8LEajK_EQ3Xd"
      },
      "source": [
        "#Thankyou :)"
      ],
      "execution_count": null,
      "outputs": []
    }
  ]
}